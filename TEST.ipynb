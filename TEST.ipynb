{
 "cells": [
  {
   "cell_type": "code",
   "execution_count": 1,
   "metadata": {
    "collapsed": false
   },
   "outputs": [],
   "source": [
    "import json\n",
    "import numpy as np\n",
    "from sklearn.metrics.pairwise import distance_metrics\n",
    "from sklearn.feature_extraction.text import TfidfVectorizer\n",
    "from sklearn.metrics.pairwise import cosine_similarity\n",
    "import urllib2\n",
    "import csv"
   ]
  },
  {
   "cell_type": "code",
   "execution_count": 2,
   "metadata": {
    "collapsed": false
   },
   "outputs": [
    {
     "name": "stdout",
     "output_type": "stream",
     "text": [
      "Enter url: 'https://www.airbnb.com/rooms/825531?s=vJx50hcn'\n",
      "Apartment is located in the residential neighborhood of Roscoe Village. There are restaurants and bars within a 10 minute walk, but you can easily hop on one of the nearby bus lines to reach any other neighborhood in the city. \n",
      "\n",
      "Furnished one bedroom apartment available for short term rent.  Free street parking and convenient to public transit. (Damen, Belmont, Diversey and Clybourn buses).\n",
      "\n",
      "Bedroom features a full-size bed with fresh linens. Additional sleeping areas available on living room futon.\n",
      "\n",
      "Wifi and basic cable. Fully equipped kitchen with microwave and AC for the Summer months. \n",
      "\n",
      "Located in Roscoe Village, a safe and active neighborhood easily accessible to Wrigley Field, Downtown, and popular bars and restaurants. Awesome taco joint open till 3 AM is my favorite go-to after a night out.\n",
      "\n",
      "Please help yourself to toiletries in the bathroom and anything in the kitchen that you need for a comfortable stay.\n",
      "\n",
      "I travel a lot so may not be available, in person, for any assistance. However, please feel free to reach me via text or email if you need anything! \n",
      "\n",
      "Roscoe Village is a safe, pretty neighborhood with beautiful homes and tree lined streets. There is a park across from the apartment and dining options within walking distance. \n",
      "\n",
      "The Damen bus will bring you to Wicker Park where you can access the CTA Blue Line. \n"
     ]
    }
   ],
   "source": [
    "# 'https://www.airbnb.com/rooms/825531?s=vJx50hcn'\n",
    "\n",
    "headers = {\"User-agent\":\"Mozilla/5.0 (Windows NT 6.1) AppleWebKit/537.36 (KHTML, like Gecko) Chrome/41.0.2228.0 Safari/537.36\"}\n",
    "search = input('Enter url: ')\n",
    "search_id = search[search.find('rooms/')+6:search.find('?')]\n",
    "url = 'https://api.airbnb.com/v2/listings/' + search_id + '?client_id=3092nxybyb0otqw18e8nh5nty&_format=v1_legacy_for_p3'\n",
    "request = urllib2.Request(url, headers=headers)\n",
    "data = json.loads(urllib2.urlopen(request).read())\n",
    "description = data['listing']['description']\n",
    "print(description)"
   ]
  },
  {
   "cell_type": "code",
   "execution_count": 5,
   "metadata": {
    "collapsed": false
   },
   "outputs": [],
   "source": [
    "#make a dictionary of descriptions: descriptions[listing_id] = description\n",
    "#make a tf-idf matrix of words by listings\n",
    "#cosine similarity\n",
    "\n",
    "#load the data\n",
    "with open('data/filtered_nyc_listings.csv') as f:\n",
    "     NYClistings = [{k: v for k, v in row.items()}\n",
    "          for row in csv.DictReader(f, skipinitialspace=True)]\n",
    "        \n",
    "with open('data/filtered_sf_listings.csv') as f:\n",
    "     SFlistings = [{k: v for k, v in row.items()}\n",
    "          for row in csv.DictReader(f, skipinitialspace=True)]\n",
    "        \n",
    "descript_dict = {}\n",
    "for n in NYClistings:\n",
    "    key = n['id']\n",
    "    descript_dict[key]=n['description']\n",
    "    \n",
    "for s in SFlistings:\n",
    "    key = s['id']\n",
    "    descript_dict[key]=s['description']\n",
    "    \n"
   ]
  },
  {
   "cell_type": "code",
   "execution_count": 6,
   "metadata": {
    "collapsed": false
   },
   "outputs": [
    {
     "name": "stdout",
     "output_type": "stream",
     "text": [
      "Welcome to the HART House! A safe and clean place for travelers and artists to sleep, rest, create, and get to know Spanish Harlem. We have one spacious and sunny dorm room available for travelers, it accommodates up to 4 people. The HART house is a gorgeous 5 bedroom, 2 bathroom apartment that is rented and run by the Harlem Art Collective. The apartment takes up the entire 5th floor of our building and is full of light, art, and creativity. Our walls are covered with murals and art from local artists and members of our collective, and we are always available to show you around the neighborhood and the art scene!  Our apartment is also a unique creative space that we use for art workshops, artist studio space, and Harlem Art Collective meetings and events, as well as a back packers haven and travelers hang out! Our guests are welcome and encouraged to tap into their creative side and paint or create art while staying with us!  The proceeds from your stay go directly into the the Harle\n"
     ]
    }
   ],
   "source": [
    "n_feats = 5000\n",
    "descriptions = [descript_dict[d] for d in descript_dict]\n",
    "print(descriptions[0])\n",
    "listing_by_vocab = np.empty((len(descriptions), n_feats))\n",
    "\n",
    "\n",
    "tfidf_vec = TfidfVectorizer(min_df = 10, max_df = .8, max_features = n_feats, norm='l2', stop_words = 'english')\n",
    "listing_by_vocab = tfidf_vec.fit_transform(descriptions).toarray()\n"
   ]
  },
  {
   "cell_type": "code",
   "execution_count": null,
   "metadata": {
    "collapsed": true
   },
   "outputs": [],
   "source": [
    "# get input description in a tf-idf vector\n",
    "# compute the cosine similarity between each of the other descriptions\n",
    "# sort the results"
   ]
  }
 ],
 "metadata": {
  "kernelspec": {
   "display_name": "Python 2",
   "language": "python",
   "name": "python2"
  },
  "language_info": {
   "codemirror_mode": {
    "name": "ipython",
    "version": 2
   },
   "file_extension": ".py",
   "mimetype": "text/x-python",
   "name": "python",
   "nbconvert_exporter": "python",
   "pygments_lexer": "ipython2",
   "version": "2.7.11"
  }
 },
 "nbformat": 4,
 "nbformat_minor": 0
}
