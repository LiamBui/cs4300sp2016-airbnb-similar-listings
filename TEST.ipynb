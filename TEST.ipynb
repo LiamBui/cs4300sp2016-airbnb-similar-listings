{
 "cells": [
  {
   "cell_type": "code",
   "execution_count": 1,
   "metadata": {
    "collapsed": false
   },
   "outputs": [],
   "source": [
    "import json\n",
    "import numpy as np\n",
    "from sklearn.metrics.pairwise import distance_metrics\n",
    "from sklearn.feature_extraction.text import TfidfVectorizer\n",
    "from sklearn.metrics.pairwise import cosine_similarity\n",
    "import urllib2\n",
    "import csv"
   ]
  },
  {
   "cell_type": "code",
   "execution_count": 8,
   "metadata": {
    "collapsed": false
   },
   "outputs": [
    {
     "name": "stdout",
     "output_type": "stream",
     "text": [
      "Enter url: 'https://www.airbnb.com/rooms/825531?s=vJx50hcn'\n",
      "Apartment is located in the residential neighborhood of Roscoe Village. There are restaurants and bars within a 10 minute walk, but you can easily hop on one of the nearby bus lines to reach any other neighborhood in the city. \n",
      "\n",
      "Furnished one bedroom apartment available for short term rent.  Free street parking and convenient to public transit. (Damen, Belmont, Diversey and Clybourn buses).\n",
      "\n",
      "Bedroom features a full-size bed with fresh linens. Additional sleeping areas available on living room futon.\n",
      "\n",
      "Wifi and basic cable. Fully equipped kitchen with microwave and AC for the Summer months. \n",
      "\n",
      "Located in Roscoe Village, a safe and active neighborhood easily accessible to Wrigley Field, Downtown, and popular bars and restaurants. Awesome taco joint open till 3 AM is my favorite go-to after a night out.\n",
      "\n",
      "Please help yourself to toiletries in the bathroom and anything in the kitchen that you need for a comfortable stay.\n",
      "\n",
      "I travel a lot so may not be available, in person, for any assistance. However, please feel free to reach me via text or email if you need anything! \n",
      "\n",
      "Roscoe Village is a safe, pretty neighborhood with beautiful homes and tree lined streets. There is a park across from the apartment and dining options within walking distance. \n",
      "\n",
      "The Damen bus will bring you to Wicker Park where you can access the CTA Blue Line. \n"
     ]
    }
   ],
   "source": [
    "# 'https://www.airbnb.com/rooms/825531?s=vJx50hcn'\n",
    "\n",
    "headers = {\"User-agent\":\"Mozilla/5.0 (Windows NT 6.1) AppleWebKit/537.36 (KHTML, like Gecko) Chrome/41.0.2228.0 Safari/537.36\"}\n",
    "search = input('Enter url: ')\n",
    "if (search.find('?') == -1):\n",
    "    search_id = search[search.find('rooms/')+6:]\n",
    "else:\n",
    "    search_id = search[search.find('rooms/')+6:search.find('?')]\n",
    "url = 'https://api.airbnb.com/v2/listings/' + search_id + '?client_id=3092nxybyb0otqw18e8nh5nty&_format=v1_legacy_for_p3'\n",
    "request = urllib2.Request(url, headers=headers)\n",
    "data = json.loads(urllib2.urlopen(request).read())\n",
    "input_description = data['listing']['description']\n",
    "print(input_description)"
   ]
  },
  {
   "cell_type": "code",
   "execution_count": 9,
   "metadata": {
    "collapsed": false
   },
   "outputs": [],
   "source": [
    "#make a dictionary of descriptions: descriptions[listing_id] = description\n",
    "#make a tf-idf matrix of words by listings\n",
    "#cosine similarity\n",
    "\n",
    "#load the data\n",
    "with open('data/filtered_nyc_listings.csv') as f:\n",
    "     NYClistings = [{k: v for k, v in row.items()}\n",
    "          for row in csv.DictReader(f, skipinitialspace=True)]\n",
    "        \n",
    "with open('data/filtered_sf_listings.csv') as f:\n",
    "     SFlistings = [{k: v for k, v in row.items()}\n",
    "          for row in csv.DictReader(f, skipinitialspace=True)]\n",
    "        \n",
    "descript_dict = {}\n",
    "for n in NYClistings:\n",
    "    key = n['id']\n",
    "    descript_dict[key]=n['description']\n",
    "    \n",
    "for s in SFlistings:\n",
    "    key = s['id']\n",
    "    descript_dict[key]=s['description']\n",
    "    \n"
   ]
  },
  {
   "cell_type": "code",
   "execution_count": 40,
   "metadata": {
    "collapsed": false
   },
   "outputs": [],
   "source": [
    "n_feats = 5000\n",
    "descriptions = [input_description]+ [descript_dict[d] for d in descript_dict]\n",
    "listing_by_vocab = np.empty((len(descriptions), n_feats))\n",
    "\n",
    "\n",
    "tfidf_vec = TfidfVectorizer(min_df = 10, max_df = .8, max_features = n_feats, norm='l2', stop_words = 'english')\n",
    "listing_by_vocab = tfidf_vec.fit_transform(descriptions)"
   ]
  },
  {
   "cell_type": "code",
   "execution_count": 37,
   "metadata": {
    "collapsed": false
   },
   "outputs": [
    {
     "name": "stdout",
     "output_type": "stream",
     "text": [
      "[    0 12376 13084 ..., 28340  5581 36113]\n"
     ]
    }
   ],
   "source": [
    "ranked_list = np.argsort(cosine_similarity(listing_by_vocab[0:1], listing_by_vocab))[0][::-1]\n",
    "print(ranked_list)"
   ]
  },
  {
   "cell_type": "code",
   "execution_count": 39,
   "metadata": {
    "collapsed": false
   },
   "outputs": [
    {
     "name": "stdout",
     "output_type": "stream",
     "text": [
      "[\"Enjoy your very own duplex apartment, centrally located in the hip & historic Clinton Hill neighborhood. Walk the tree-lined streets of this fun and beautiful area in Brooklyn or hop on the subway one block away, and get to downtown Manhattan easily. Enjoy your very own duplex apartment located on a pleasant, tree lined side street. If you're up for a nice walk, you can easily get to Fort Greene Park, the Brooklyn Botanical Gardens, Prospect Park, The Brooklyn Museum or go to dozens of great restaurants and bars in the neighborhood. Want to travel further to see some of New York's amazing sites? The apartment is located one block away from a C train subway stop! It's just a few steps away! We are going on vacation, so we are renting out our lovely apartment for this short time only. The apartment is clean and spacious. On the upper level, there is an foyer/living room that has a futon on it, which can easily be converted into a bed. There is also the main bedroom and the bathroom on th\", 'Our comfortable 2bd apartment has a full sized kitchen, living room, & bathroom. We are in the heart of the East Village, minutes away from the Lower East Side, surrounded by dozens of dining options. Welcome to NYC! NYC is a city of neighborhoods, which each have their own personality and vibe. The East Village, and especially Alphabet City, feels like just that - a village within a huge city. It is a lovely and vibrant neighborhood with lots of character and history. The shops, bars and restaurants give the East Village its charm. There is so much within walking distance that you can easily find anything you need within the neighborhood....although we do encourage you to explore beyond the East Village as well! Bus: the M14D passes right on our corner, convenient for traveling to union square and Chelsea. Subway: the 2nd Ave stop on the F line or the Delancy/Essex Street on the J/M/F/Z lines are all located within a 10 minute walk from the apartment.', \"East Village is Food, Night Life and convenience... One block from Tompkins Park on a tree lined block with tons of great restaurants... There is also a park 6 blocks away along the water, perfect for runners. Or you can take my bikes out to explore! Large one bedroom. Large living room and bedroom, with a queen size bed on a second floor walk up. Small kitchen with all you need to make a meal for two, microwave, private bathroom. You have access to my tv with Netflix via a playstation 4. I also have two bikes that you must lock carefully if you use. Please feel free to reach out directly to us if you need something. When i rent i am typically out of town - but should you need help, I'm accessible via phone and have a close friend near by who may be able to assist. The diverse and bohemian East Village. A little something for everyone. Taxis and Buses right on 1st Avenue or Avenue A. But you are in a pretty convenient location so trains can take you pretty much anywhere you need to go.\", 'Located in the heart of West Village this apartment has a full kitchen, bathroom, and plenty of light. Building is within arms reach of some of the finest restaurants, bars, and shops. Convenient to multiple subway lines and walking distance to New York\\'s best neighborhoods (SoHo, Tribeca, Chelsea). True one bedroom/one bathroom apartment available for rent in West Village/Greenwich Village. The apartment is conveniently located in between 6th and 7th Aves next to multiple subway lines (1,B,D,F,M,A,C,E) that will take you anywhere in the city. The neighborhood also boasts a short cab ride to anywhere in Manhattan. Apartment is in a trendy, safe, and clean area that is loaded with coffee shops, restaurants, bars, and shopping within walking distance. The apartment is very quiet as it overlooks a terrace as opposed to the street. Apartment is fully furnished; the bedroom has a full-sized memory foam bed, TV, and dresser. The living room includes a couch, 40\" TV with AppleTV (including Ne', 'Private, one bedroom apt with full bathroom, living room and full kitchen.  Fully furnished. Four blocks from the N,Q subway and 10 mins to Manhattan.  Several bars and restaurants in walking distance.Quiet and safe neighborhood.  No pets please. Multiple bars and restaurants all in walking distance from apt.  Quiet and safe neighborhood , with street parking available. The N,Q line is only 4 blocks away......4 stops from Manhattan. The R and M line is an 7 min walk from apt.', 'Newly renovated West Village apartment featuring one large bedroom, kitchen, bathroom and a small living room. Walking distance to beautiful WV cafes, restaurants and bars and easily accessible to Manhattan and Brooklyn.', 'One bedroom apartment in the best neighborhood in the city close to Soho and LES. Location is within 3 block of the F, M, B, D, 6, N, R, and W trains along with fantastic shopping, restaurants, and bars. This is a one bedroom with a full size bed, one bathroom with a bathtub, and living room. There is A/C, heating, TV with cable, HBO, apple TV. The entire apartment will be yours. Available via text if you have any questions. This area is close to subway lines N, R, W, 6, F, M, B, and D. There is limited street parking and few parking garages nearby however, it is a mostly pedestrian neighborhood and easily accessible via most public transport methods.', 'Entire apartment! Beautifully fully furnished full 1 bedrm apt w a separate dining/kitchen area and living rm in a very safe residential neighborhood. Stainless Steel Kitchen, Jacuzzi, California King Size Bed, WIFI and CABLE. Excellent apartment in a great and safe neighborhood. The apartment is located 4 blocks from the F train, and about 35 mins to downtown Manhattan. All amenities, including linens, a 60\" TV, Californiza King Size Bed, Jacuzzi in bathroom, Granite counter tops, fully tiled cool looking natural tiled bathroom, Stainless Steel Kitchen Appliances. Includes FREE Internet, WIFI and Cable TV. Parking is easily available on the street. Free wifi /Internet / Cable TV I can answer any questions you make have, feel free to email me or call me anytime if you want to know where to go, how to get there, what to do, etc. A very family friendly and safe residential neighborhood conveniently located 35 mins from downtown Manhattan. The F train is located four blocks away, about a ', \"Rent my furnished, clean, and very quiet apartment in the heart of the East Village! Full sized bed, couch, AC, separate eat-in kitchen, cable TV, wifi (must bring own laptop or tablet), linens, and towels!   This private apartment is all yours (not a share), as is use of the kitchen and all of its amenities. Short 6-minute walk to six subway lines (Q, R, N, F, L, 6), many buses, and all the best bars and restaurants in the city. This is a classic prewar village walkup apartment, perfect for a couple or for visiting parents or friends,but there's a two person maximum. The apartment is in the back of the building, meaning it's very quiet. Email me with any questions, and enjoy your trip to NYC! \", \"Modern and cosy apartment located on East Village, one block away from Tompkins Square Park.  Safe and friendly neighborhood full of nightlife.  Many restaurants and bars, 24 hour supermarkets, close to all transportation (subways and buses). Cosy apartment located on East Village, one block away from Tompkins Square Park.  Safe and friendly neighborhood full of nightlife.  Many restaurants and bars, 24 hour supermarkets, close to all transportation (subways and buses). A very nice one-bedroom apartment with equipped kitchen, dining area (4 seats), spacious living room with a large convertible sofa, bedroom with very comfortable queen size bed. The apartment can easily host 4 people and is located on the 5th floor (with an elevator ;) of a very safe and clean building in the heart of New York City's trendy East Village district.  The apartment features beautiful hard wood floors and is located on the very quiet courtyard, there is plenty of natural sunlight. A cute kitchen attached to \"]\n"
     ]
    }
   ],
   "source": [
    "top_ten = ranked_list[1:11] #first element is the input listing itself\n",
    "top_ten_descriptions = []\n",
    "for i in top_ten:\n",
    "    top_ten_descriptions.append(descriptions[i])\n",
    "print(top_ten_descriptions)\n",
    "\n",
    "#get ids of the listings so can look up other information to display\n",
    "#need to figure out a way to map back from description to id\n",
    "#descript dict maps the id key to the description value\n",
    "#is there a faster way to do cosine similarity? can we construct a tf-idf vector from the input description instead\n",
    "#of adding it to the tf-idf matrix?"
   ]
  },
  {
   "cell_type": "code",
   "execution_count": null,
   "metadata": {
    "collapsed": true
   },
   "outputs": [],
   "source": []
  }
 ],
 "metadata": {
  "kernelspec": {
   "display_name": "Python 2",
   "language": "python",
   "name": "python2"
  },
  "language_info": {
   "codemirror_mode": {
    "name": "ipython",
    "version": 2
   },
   "file_extension": ".py",
   "mimetype": "text/x-python",
   "name": "python",
   "nbconvert_exporter": "python",
   "pygments_lexer": "ipython2",
   "version": "2.7.11"
  }
 },
 "nbformat": 4,
 "nbformat_minor": 0
}
