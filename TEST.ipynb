{
 "cells": [
  {
   "cell_type": "code",
   "execution_count": 1,
   "metadata": {
    "collapsed": false
   },
   "outputs": [],
   "source": [
    "import json\n",
    "import numpy as np\n",
    "from sklearn.metrics.pairwise import distance_metrics\n",
    "from sklearn.feature_extraction.text import TfidfVectorizer\n",
    "from sklearn.metrics.pairwise import cosine_similarity\n",
    "import urllib2\n",
    "import csv"
   ]
  },
  {
   "cell_type": "code",
   "execution_count": 2,
   "metadata": {
    "collapsed": false
   },
   "outputs": [
    {
     "name": "stdout",
     "output_type": "stream",
     "text": [
      "Enter url: 'https://www.airbnb.com/rooms/825531?s=vJx50hcn'\n",
      "Apartment is located in the residential neighborhood of Roscoe Village. There are restaurants and bars within a 10 minute walk, but you can easily hop on one of the nearby bus lines to reach any other neighborhood in the city. \n",
      "\n",
      "Furnished one bedroom apartment available for short term rent.  Free street parking and convenient to public transit. (Damen, Belmont, Diversey and Clybourn buses).\n",
      "\n",
      "Bedroom features a full-size bed with fresh linens. Additional sleeping areas available on living room futon.\n",
      "\n",
      "Wifi and basic cable. Fully equipped kitchen with microwave and AC for the Summer months. \n",
      "\n",
      "Located in Roscoe Village, a safe and active neighborhood easily accessible to Wrigley Field, Downtown, and popular bars and restaurants. Awesome taco joint open till 3 AM is my favorite go-to after a night out.\n",
      "\n",
      "Please help yourself to toiletries in the bathroom and anything in the kitchen that you need for a comfortable stay.\n",
      "\n",
      "I travel a lot so may not be available, in person, for any assistance. However, please feel free to reach me via text or email if you need anything! \n",
      "\n",
      "Roscoe Village is a safe, pretty neighborhood with beautiful homes and tree lined streets. There is a park across from the apartment and dining options within walking distance. \n",
      "\n",
      "The Damen bus will bring you to Wicker Park where you can access the CTA Blue Line. \n"
     ]
    }
   ],
   "source": [
    "# 'https://www.airbnb.com/rooms/825531?s=vJx50hcn'\n",
    "\n",
    "headers = {\"User-agent\":\"Mozilla/5.0 (Windows NT 6.1) AppleWebKit/537.36 (KHTML, like Gecko) Chrome/41.0.2228.0 Safari/537.36\"}\n",
    "search = input('Enter url: ')\n",
    "if (search.find('?') == -1):\n",
    "    search_id = search[search.find('rooms/')+6:]\n",
    "else:\n",
    "    search_id = search[search.find('rooms/')+6:search.find('?')]\n",
    "url = 'https://api.airbnb.com/v2/listings/' + search_id + '?client_id=3092nxybyb0otqw18e8nh5nty&_format=v1_legacy_for_p3'\n",
    "request = urllib2.Request(url, headers=headers)\n",
    "data = json.loads(urllib2.urlopen(request).read())\n",
    "input_description = data['listing']['description']"
   ]
  },
  {
   "cell_type": "code",
   "execution_count": 13,
   "metadata": {
    "collapsed": false
   },
   "outputs": [],
   "source": [
    "#make a dictionary of descriptions: descriptions[listing_id] = description\n",
    "#make a tf-idf matrix of words by listings\n",
    "#cosine similarity\n",
    "\n",
    "#load the data\n",
    "with open('data/filtered_nyc_listings.csv') as f:\n",
    "     NYClistings = [{k: v for k, v in row.items()}\n",
    "          for row in csv.DictReader(f, skipinitialspace=True)]\n",
    "        \n",
    "with open('data/filtered_sf_listings.csv') as f:\n",
    "     SFlistings = [{k: v for k, v in row.items()}\n",
    "          for row in csv.DictReader(f, skipinitialspace=True)]\n",
    "    \n",
    "data = NYClistings + SFlistings\n",
    "\n",
    "descript_dict = {}\n",
    "for d in data:\n",
    "    key = d['id']\n",
    "    descript_dict[key]=d['description']\n",
    "\n",
    "id_to_listing = {}\n",
    "for d in data:\n",
    "    id_to_listing[d['id']] = d\n"
   ]
  },
  {
   "cell_type": "code",
   "execution_count": 11,
   "metadata": {
    "collapsed": false
   },
   "outputs": [],
   "source": [
    "listing_index_to_id = {index:listing_id for index, listing_id in enumerate([d['id'] for d in data])}\n",
    "\n",
    "n_feats = 5000\n",
    "descriptions = [input_description]+ [descript_dict[d] for d in descript_dict]\n",
    "listing_by_vocab = np.empty((len(descriptions), n_feats))\n",
    "\n",
    "tfidf_vec = TfidfVectorizer(min_df = 10, max_df = .8, max_features = n_feats, norm='l2', stop_words = 'english')\n",
    "listing_by_vocab = tfidf_vec.fit_transform(descriptions)"
   ]
  },
  {
   "cell_type": "code",
   "execution_count": 15,
   "metadata": {
    "collapsed": false
   },
   "outputs": [
    {
     "name": "stdout",
     "output_type": "stream",
     "text": [
      "[    0 12376 13084 ..., 28340  5581 36113]\n"
     ]
    }
   ],
   "source": [
    "ranked_list = np.argsort(cosine_similarity(listing_by_vocab[0:1], listing_by_vocab))[0][::-1]"
   ]
  },
  {
   "cell_type": "code",
   "execution_count": 23,
   "metadata": {
    "collapsed": false
   },
   "outputs": [
    {
     "name": "stdout",
     "output_type": "stream",
     "text": [
      "{'description': 'This place is amazing! All yours - not shared. Location: East Village on St. Marks! In the middle of it all. Apartment:  top two floors + balcony;  facing a courtyard - very quiet. Bed: Queen with pillow-top - super-comfortable! Note you will be alone in the apartment. The whole two floors and the bathroom and the balcony will be yours and yours only during the dates you book. I only rent out the space when I travel, so please check the calendar before inquiring. Depending on the length of the stay and the requests of the guests, I free up the closets, bathroom cabinets etc.', 'listing_url': 'https://www.airbnb.com/rooms/9531442', 'price': '$120.00', 'bedrooms': '1', 'accommodates': '3', 'summary': 'This place is amazing! All yours - not shared. Location: East Village on St. Marks! In the middle of it all. Apartment:  top two floors + balcony;  facing a courtyard - very quiet. Bed: Queen with pillow-top - super-comfortable!', 'name': 'Duplex Penthouse in East Village!'}\n"
     ]
    }
   ],
   "source": [
    "top_ten_idx = ranked_list[1:11] #first element is the input listing itself\n",
    "top_ten_listings = []  #top ten listings and their data\n",
    "for i in top_ten:\n",
    "    listing_data = id_to_listing[listing_index_to_id[i]]\n",
    "    sub_dict = {k: listing_data[k] for k in ('listing_url', 'description', 'price', 'bedrooms', 'accommodates', \n",
    "                                       'summary', 'name')}\n",
    "    top_ten_listings.append(sub_dict)\n",
    "\n",
    "#get ids of the listings so can look up other information to display\n",
    "#need to figure out a way to map back from description to id\n",
    "#descript dict maps the id key to the description value\n",
    "#is there a faster way to do cosine similarity? can we construct a tf-idf vector from the input description instead\n",
    "#of adding it to the tf-idf matrix?"
   ]
  },
  {
   "cell_type": "code",
   "execution_count": null,
   "metadata": {
    "collapsed": true
   },
   "outputs": [],
   "source": []
  }
 ],
 "metadata": {
  "kernelspec": {
   "display_name": "Python 2",
   "language": "python",
   "name": "python2"
  },
  "language_info": {
   "codemirror_mode": {
    "name": "ipython",
    "version": 2
   },
   "file_extension": ".py",
   "mimetype": "text/x-python",
   "name": "python",
   "nbconvert_exporter": "python",
   "pygments_lexer": "ipython2",
   "version": "2.7.11"
  }
 },
 "nbformat": 4,
 "nbformat_minor": 0
}
